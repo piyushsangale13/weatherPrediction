{
 "cells": [
  {
   "cell_type": "code",
   "execution_count": 1,
   "metadata": {},
   "outputs": [],
   "source": [
    "import tensorflow as tf\n",
    "import os\n",
    "from tensorflow.keras import datasets, layers, models\n",
    "import matplotlib.pyplot as plt\n",
    "import numpy as np\n",
    "from keras import backend as K\n",
    "from keras.preprocessing.image import ImageDataGenerator as IDG\n",
    "from keras import regularizers, optimizers\n",
    "#Import from keras_preprocessing not from keras.preprocessing"
   ]
  },
  {
   "cell_type": "code",
   "execution_count": 2,
   "metadata": {},
   "outputs": [],
   "source": [
    "\n",
    "%matplotlib inline\n",
    "import pandas as pd\n",
    "from sklearn.model_selection import train_test_split"
   ]
  },
  {
   "cell_type": "code",
   "execution_count": 3,
   "metadata": {},
   "outputs": [],
   "source": [
    "\n",
    "img_path = './dataset/'\n",
    "\n",
    "df=pd.DataFrame(columns=(\"image\",\"lable\"))\n",
    "\n",
    "class_names = sorted(os.listdir(img_path))\n",
    "for i in class_names:\n",
    "    for j in os.listdir(img_path + \"/\" + i):\n",
    "        df.loc[len(df.index)] = [j,i]  \n",
    "df.to_csv(\"csv_file.csv\")\n"
   ]
  },
  {
   "cell_type": "code",
   "execution_count": 4,
   "metadata": {},
   "outputs": [],
   "source": [
    "import shutil\n",
    "# Create target Directory if don't exist\n",
    "if not os.path.exists(img_path + \"all\"):\n",
    "    os.mkdir(img_path + \"all\")\n",
    "    src_dir = './dataset/'\n",
    "    # path to destination directory\n",
    "    dest_dir = './dataset/all'\n",
    "    # getting all the files in the source directory\n",
    "    files = os.listdir(src_dir) \n",
    "    for i in class_names:\n",
    "        shutil.copytree(src_dir + i, dest_dir,dirs_exist_ok=True)"
   ]
  },
  {
   "cell_type": "code",
   "execution_count": 5,
   "metadata": {},
   "outputs": [
    {
     "name": "stdout",
     "output_type": "stream",
     "text": [
      "Found 10880 validated image filenames belonging to 12 classes.\n",
      "Found 2719 validated image filenames belonging to 12 classes.\n"
     ]
    }
   ],
   "source": [
    "# Initialize DataGenerator\n",
    "train_gen = IDG(rescale=1./255, horizontal_flip=True, rotation_range=20, validation_split=0.2)\n",
    "\n",
    "# train_images,train_lables,test_images,test_labels = train_test_split(df[\"image\"],df[\"lable\"],test_size=0.3,shuffle=True)\n",
    "train_images = train_gen.flow_from_dataframe(dataframe=df,directory=img_path + \"/\" + \"all\", x_col=\"image\",y_col=\"lable\", class_mode=\"categorical\", subset='training', shuffle=True, batch_size=64,target_size=(64,64))\n",
    "test_images = train_gen.flow_from_dataframe(dataframe= df,directory=img_path + \"/\" + \"all\",x_col=\"image\",y_col=\"lable\", class_mode=\"categorical\", subset='validation', shuffle=True, batch_size=64,target_size=(64,64))\n"
   ]
  },
  {
   "cell_type": "code",
   "execution_count": 6,
   "metadata": {},
   "outputs": [],
   "source": [
    "model = models.Sequential()\n",
    "model.add(layers.Conv2D(64, (5, 5), padding='same',\n",
    "                 input_shape=(64,64,3)))\n",
    "model.add(layers.Activation('relu'))\n",
    "model.add(layers.Conv2D(64, (5, 5)))\n",
    "model.add(layers.Activation('relu'))\n",
    "model.add(layers.MaxPooling2D(pool_size=(2, 2)))\n",
    "model.add(layers.Dropout(0.25))\n",
    "model.add(layers.Conv2D(128, (5, 5), padding='same'))\n",
    "model.add(layers.Activation('relu'))\n",
    "model.add(layers.Conv2D(128, (5, 5)))\n",
    "model.add(layers.Activation('relu'))\n",
    "model.add(layers.MaxPooling2D(pool_size=(2, 2)))\n",
    "model.add(layers.Dropout(0.25))\n",
    "model.add(layers.Flatten())\n",
    "model.add(layers.Dense(1024))\n",
    "model.add(layers.Activation('relu'))\n",
    "model.add(layers.Dropout(0.5))\n",
    "model.add(layers.Dense(11, activation='softmax'))\n",
    "model.compile(optimizer='adam',loss=\"categorical_crossentropy\",metrics=[\"accuracy\"])"
   ]
  },
  {
   "cell_type": "code",
   "execution_count": 7,
   "metadata": {},
   "outputs": [],
   "source": [
    "\n",
    "# history=model.fit_generator(generator=train_images,steps_per_epoch=15,validation_steps=15,\n",
    "#                     validation_data=test_images,\n",
    "#                     epochs=10\n",
    "# )"
   ]
  },
  {
   "cell_type": "code",
   "execution_count": 8,
   "metadata": {},
   "outputs": [
    {
     "ename": "NameError",
     "evalue": "name 'history' is not defined",
     "output_type": "error",
     "traceback": [
      "\u001b[1;31m---------------------------------------------------------------------------\u001b[0m",
      "\u001b[1;31mNameError\u001b[0m                                 Traceback (most recent call last)",
      "\u001b[1;32mf:\\3rd sem\\IC272\\Weather Project\\weather.ipynb Cell 8\u001b[0m line \u001b[0;36m1\n\u001b[1;32m----> <a href='vscode-notebook-cell:/f%3A/3rd%20sem/IC272/Weather%20Project/weather.ipynb#X10sZmlsZQ%3D%3D?line=0'>1</a>\u001b[0m plt\u001b[39m.\u001b[39mplot(history\u001b[39m.\u001b[39mhistory[\u001b[39m'\u001b[39m\u001b[39maccuracy\u001b[39m\u001b[39m'\u001b[39m], label\u001b[39m=\u001b[39m\u001b[39m'\u001b[39m\u001b[39maccuracy\u001b[39m\u001b[39m'\u001b[39m)\n\u001b[0;32m      <a href='vscode-notebook-cell:/f%3A/3rd%20sem/IC272/Weather%20Project/weather.ipynb#X10sZmlsZQ%3D%3D?line=1'>2</a>\u001b[0m plt\u001b[39m.\u001b[39mplot(history\u001b[39m.\u001b[39mhistory[\u001b[39m'\u001b[39m\u001b[39mval_accuracy\u001b[39m\u001b[39m'\u001b[39m], label \u001b[39m=\u001b[39m \u001b[39m'\u001b[39m\u001b[39mval_accuracy\u001b[39m\u001b[39m'\u001b[39m)\n\u001b[0;32m      <a href='vscode-notebook-cell:/f%3A/3rd%20sem/IC272/Weather%20Project/weather.ipynb#X10sZmlsZQ%3D%3D?line=2'>3</a>\u001b[0m plt\u001b[39m.\u001b[39mxlabel(\u001b[39m'\u001b[39m\u001b[39mEpoch\u001b[39m\u001b[39m'\u001b[39m)\n",
      "\u001b[1;31mNameError\u001b[0m: name 'history' is not defined"
     ]
    }
   ],
   "source": [
    "plt.plot(history.history['accuracy'], label='accuracy')\n",
    "plt.plot(history.history['val_accuracy'], label = 'val_accuracy')\n",
    "plt.xlabel('Epoch')\n",
    "plt.ylabel('Accuracy')\n",
    "# plt.ylim([0.5, 1])\n",
    "# plt.legend(loc='lower right')\n",
    "plt.grid(True)\n",
    "\n",
    "test_loss, test_acc = model.evaluate(test_images, verbose=2)\n",
    "print(test_acc)"
   ]
  },
  {
   "cell_type": "code",
   "execution_count": null,
   "metadata": {},
   "outputs": [],
   "source": [
    "i=1\n",
    "plt.figure(figsize=(15,20))\n",
    "for images, labels in train_images:\n",
    "    id = np.random.randint(len(images))\n",
    "    image= images[id]\n",
    "    label=list(labels[id]).index(1)\n",
    "    pred_label = class_names[np.argmax(model.predict(image[np.newaxis,...]))]\n",
    "    plt.subplot(5, 4, i)\n",
    "    plt.imshow(image)\n",
    "    plt.title(f\"Org: {class_names[label]},Pred: {pred_label}\")\n",
    "    plt.axis('off')\n",
    "    plt.title(f\"predic:{pred_label} orig:{class_names[label]}\")\n",
    "    i+=1\n",
    "    if i>=10: \n",
    "        break\n"
   ]
  }
 ],
 "metadata": {
  "kernelspec": {
   "display_name": "Python 3.10.8 64-bit (microsoft store)",
   "language": "python",
   "name": "python3"
  },
  "language_info": {
   "codemirror_mode": {
    "name": "ipython",
    "version": 3
   },
   "file_extension": ".py",
   "mimetype": "text/x-python",
   "name": "python",
   "nbconvert_exporter": "python",
   "pygments_lexer": "ipython3",
   "version": "3.10.11"
  },
  "orig_nbformat": 4,
  "vscode": {
   "interpreter": {
    "hash": "7f432ed68cbb3d27e097f1603152c88f2dc8b3fff3e522a3ce20766dca6f9d4e"
   }
  }
 },
 "nbformat": 4,
 "nbformat_minor": 2
}
